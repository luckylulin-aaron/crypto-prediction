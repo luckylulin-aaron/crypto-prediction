{
 "cells": [
  {
   "cell_type": "code",
   "execution_count": 1,
   "metadata": {},
   "outputs": [],
   "source": [
    "import datetime\n",
    "import os\n",
    "import seaborn as sns\n",
    "import sys\n",
    "import time\n",
    "\n",
    "%matplotlib inline"
   ]
  },
  {
   "cell_type": "code",
   "execution_count": 2,
   "metadata": {},
   "outputs": [],
   "source": [
    "SCRIPTS_DIR = '../app'\n",
    "\n",
    "sys.path.insert(1, SCRIPTS_DIR)"
   ]
  },
  {
   "cell_type": "markdown",
   "metadata": {},
   "source": [
    "## Objective: New features to MA Trader \n",
    "### [1] Feat: MaxDrawdown as metric and NumExecution for information display [100%]\n",
    "### [2] Feat: Double moving averages strategy [100%]\n",
    "### [3] Feat: EMA strategy [100%]\n",
    "### [4] Feat: MACD strategy [100%]\n",
    "### [5] Feat: visualization features\n",
    "### [6] Feat: Bollinger band strategy [100%]"
   ]
  },
  {
   "cell_type": "markdown",
   "metadata": {},
   "source": [
    "#### Prepare Data"
   ]
  },
  {
   "cell_type": "code",
   "execution_count": 3,
   "metadata": {},
   "outputs": [],
   "source": [
    "# config\n",
    "\n",
    "SECONDS_IN_ONE_DAY = 86400\n",
    "\n",
    "STRATEGIES = ['MA-SELVES', 'DOUBLE-MA', 'MACD', 'BOLL-BANDS']\n",
    "#STRATEGIES = ['BOLL-BANDS']\n",
    "\n",
    "# simulation configuration\n",
    "TOL_PCTS = [0.08, 0.1, 0.15, 0.2, 0.25, 0.3, 0.35, 0.4, 0.45, 0.5]\n",
    "BUY_PCTS = [0.3, 0.4, 0.5, 0.6, 0.7]\n",
    "SELL_PCTS = [0.3, 0.4, 0.5, 0.6, 0.7]\n",
    "\n",
    "MA_LENGTHS = [3, 5, 10, 20, 30]\n",
    "EMA_LENGTHS = [12, 26]\n",
    "BOLLINGER_MAS = [10]\n",
    "BOLLINGER_TOLS = [2, 3, 4]\n",
    "\n",
    "BUY_STAS = ('by_percentage')\n",
    "SELL_STAS = ('by_percentage')\n",
    "\n",
    "# currencies (digital + real-world)\n",
    "CURS = ['BTC', 'ETH', 'LTC', 'BCH', 'ETC']\n",
    "FIAT = ['USD']\n",
    "\n",
    "# signals\n",
    "NO_ACTION_SIGNAL = 'NO ACTION'\n",
    "BUY_SIGNAL = 'BUY'\n",
    "SELL_SIGNAL = 'SELL'\n",
    "\n",
    "# epilson\n",
    "EP_COIN = 10e-3\n",
    "EP_CASH = 5"
   ]
  },
  {
   "cell_type": "code",
   "execution_count": 4,
   "metadata": {},
   "outputs": [],
   "source": [
    "from trader_driver import TraderDriver\n",
    "from util import load_csv\n",
    "\n",
    "name,l = load_csv(csv_fn='../tests/fixtures/ETH_HISTORY.csv')\n",
    "\n",
    "l = l[-100:]"
   ]
  },
  {
   "cell_type": "code",
   "execution_count": 5,
   "metadata": {
    "scrolled": false
   },
   "outputs": [
    {
     "name": "stdout",
     "output_type": "stream",
     "text": [
      "--> executed=feed_data using time=13.99 seconds.\n"
     ]
    },
    {
     "data": {
      "text/plain": [
       "{'action': 'NO ACTION', 'buy_percentage': 0.7, 'sell_percentage': 0.7}"
      ]
     },
     "execution_count": 5,
     "metadata": {},
     "output_type": "execute_result"
    }
   ],
   "source": [
    "init_amount = 3000\n",
    "cur_coin = 5\n",
    "mode = 'normal'\n",
    "\n",
    "t_driver = TraderDriver(\n",
    "    name=name,\n",
    "    init_amount=init_amount,\n",
    "    overall_stats=STRATEGIES,\n",
    "    cur_coin=cur_coin,\n",
    "    tol_pcts=TOL_PCTS,\n",
    "    ma_lengths=MA_LENGTHS,\n",
    "    ema_lengths=EMA_LENGTHS,\n",
    "    bollinger_mas=BOLLINGER_MAS,\n",
    "    bollinger_tols=BOLLINGER_TOLS,\n",
    "    buy_pcts=BUY_PCTS,\n",
    "    sell_pcts=SELL_PCTS,\n",
    "    buy_stas=BUY_STAS,\n",
    "    sell_stas=SELL_STAS,\n",
    "    mode=mode\n",
    ")\n",
    "\n",
    "t_driver.feed_data(data_stream=l)\n",
    "\n",
    "info = t_driver.best_trader_info\n",
    "# best trader\n",
    "best_t = t_driver.traders[info['trader_index']]\n",
    "# for a new price, find the trade signal\n",
    "signal = best_t.trade_signal\n",
    "\n",
    "signal"
   ]
  },
  {
   "cell_type": "code",
   "execution_count": 6,
   "metadata": {
    "scrolled": true
   },
   "outputs": [
    {
     "data": {
      "text/plain": [
       "[{'action': 'NO ACTION',\n",
       "  'price': 376.73040775650003,\n",
       "  'date': '2020-08-03',\n",
       "  'coin': 5,\n",
       "  'cash': 3000,\n",
       "  'portfolio': 4883.6520387825},\n",
       " {'action': 'NO ACTION',\n",
       "  'price': 389.0088526187,\n",
       "  'date': '2020-08-04',\n",
       "  'coin': 5,\n",
       "  'cash': 3000,\n",
       "  'portfolio': 4945.0442630935}]"
      ]
     },
     "execution_count": 6,
     "metadata": {},
     "output_type": "execute_result"
    }
   ],
   "source": [
    "best_t.all_history[:2]"
   ]
  },
  {
   "cell_type": "code",
   "execution_count": 7,
   "metadata": {},
   "outputs": [
    {
     "data": {
      "text/plain": [
       "[{'action': 'SELL',\n",
       "  'price': 439.4651311644,\n",
       "  'date': '2020-08-15',\n",
       "  'coin': 1.5,\n",
       "  'cash': 4507.365399893892,\n",
       "  'portfolio': 5166.5630966404915},\n",
       " {'action': 'SELL',\n",
       "  'price': 432.5808730567,\n",
       "  'date': '2020-08-16',\n",
       "  'coin': 0.4500000000000002,\n",
       "  'cash': 4952.491118269236,\n",
       "  'portfolio': 5147.152511144751},\n",
       " {'action': 'SELL',\n",
       "  'price': 432.99482228449995,\n",
       "  'date': '2020-08-17',\n",
       "  'coin': 0.13500000000000006,\n",
       "  'cash': 5086.156619908461,\n",
       "  'portfolio': 5144.610920916868},\n",
       " {'action': 'SELL',\n",
       "  'price': 439.1354267206,\n",
       "  'date': '2020-08-18',\n",
       "  'coin': 0.04050000000000002,\n",
       "  'cash': 5126.8249517770555,\n",
       "  'portfolio': 5144.60993655924},\n",
       " {'action': 'BUY',\n",
       "  'price': 383.7475333924,\n",
       "  'date': '2020-08-26',\n",
       "  'coin': 9.20538475073209,\n",
       "  'cash': 1538.0474855331167,\n",
       "  'portfolio': 5070.591177554569},\n",
       " {'action': 'BUY',\n",
       "  'price': 386.442205636,\n",
       "  'date': '2020-08-27',\n",
       "  'coin': 11.935678077102203,\n",
       "  'cash': 461.4142456599352,\n",
       "  'portfolio': 5073.864007536562},\n",
       " {'action': 'BUY',\n",
       "  'price': 381.5294806967,\n",
       "  'date': '2020-08-28',\n",
       "  'coin': 12.765312976991744,\n",
       "  'cash': 138.4242736979806,\n",
       "  'portfolio': 5008.7675047404855},\n",
       " {'action': 'SELL',\n",
       "  'price': 480.5552222401,\n",
       "  'date': '2020-09-02',\n",
       "  'coin': 3.829593893097524,\n",
       "  'cash': 4346.648614529153,\n",
       "  'portfolio': 6186.979958915963},\n",
       " {'action': 'SELL',\n",
       "  'price': 441.87929729440003,\n",
       "  'date': '2020-09-03',\n",
       "  'coin': 1.1488781679292575,\n",
       "  'cash': 5507.510339794886,\n",
       "  'portfolio': 6015.175817316344},\n",
       " {'action': 'BUY',\n",
       "  'price': 329.0848011726,\n",
       "  'date': '2020-09-06',\n",
       "  'coin': 12.629663909588922,\n",
       "  'cash': 1652.253101938466,\n",
       "  'portfolio': 5808.483538502299},\n",
       " {'action': 'BUY',\n",
       "  'price': 349.46055318839996,\n",
       "  'date': '2020-09-07',\n",
       "  'coin': 15.873078989169388,\n",
       "  'cash': 495.6759305815399,\n",
       "  'portfolio': 6042.690894939842},\n",
       " {'action': 'BUY',\n",
       "  'price': 354.3037632168,\n",
       "  'date': '2020-09-08',\n",
       "  'coin': 16.832802603989894,\n",
       "  'cash': 148.70277917446197,\n",
       "  'portfolio': 6112.628087253632},\n",
       " {'action': 'BUY',\n",
       "  'price': 334.025416843,\n",
       "  'date': '2020-09-09',\n",
       "  'coin': 17.13819884442518,\n",
       "  'cash': 44.61083375233859,\n",
       "  'portfolio': 5769.20484669968},\n",
       " {'action': 'BUY',\n",
       "  'price': 354.51332932300005,\n",
       "  'date': '2020-09-10',\n",
       "  'coin': 17.224522910187517,\n",
       "  'cash': 13.38325012570158,\n",
       "  'portfolio': 6119.706213016569},\n",
       " {'action': 'BUY',\n",
       "  'price': 322.3349074502,\n",
       "  'date': '2020-09-24',\n",
       "  'coin': 17.253005427513536,\n",
       "  'cash': 4.0149750377104745,\n",
       "  'portfolio': 5565.260882753084},\n",
       " {'action': 'BUY',\n",
       "  'price': 340.3481830382,\n",
       "  'date': '2020-10-07',\n",
       "  'coin': 17.26109794280562,\n",
       "  'cash': 1.2044925113131426,\n",
       "  'portfolio': 5875.987814589617},\n",
       " {'action': 'BUY',\n",
       "  'price': 339.378314508,\n",
       "  'date': '2020-10-08',\n",
       "  'coin': 17.26353263538154,\n",
       "  'cash': 0.36134775339394287,\n",
       "  'portfolio': 5859.229956003032},\n",
       " {'action': 'SELL',\n",
       "  'price': 364.3294014957,\n",
       "  'date': '2020-10-10',\n",
       "  'coin': 5.179059790614463,\n",
       "  'cash': 4315.0355314999215,\n",
       "  'portfolio': 6201.919285324934},\n",
       " {'action': 'SELL',\n",
       "  'price': 374.6844228802,\n",
       "  'date': '2020-10-11',\n",
       "  'coin': 1.5537179371843393,\n",
       "  'cash': 5646.227469193904,\n",
       "  'portfolio': 6228.381377806432},\n",
       " {'action': 'SELL',\n",
       "  'price': 372.7678333626,\n",
       "  'date': '2020-10-12',\n",
       "  'coin': 0.4661153811553018,\n",
       "  'cash': 6043.5422525970625,\n",
       "  'portfolio': 6217.295073327306},\n",
       " {'action': 'SELL',\n",
       "  'price': 393.1071990064,\n",
       "  'date': '2020-10-13',\n",
       "  'coin': 0.13983461434659056,\n",
       "  'cash': 6169.240304560299,\n",
       "  'portfolio': 6224.210298130227},\n",
       " {'action': 'SELL',\n",
       "  'price': 381.62561685459997,\n",
       "  'date': '2020-10-14',\n",
       "  'coin': 0.04195038430397717,\n",
       "  'cash': 6205.848331637241,\n",
       "  'portfolio': 6221.857672924534},\n",
       " {'action': 'SELL',\n",
       "  'price': 376.469523739,\n",
       "  'date': '2020-10-15',\n",
       "  'coin': 0.012585115291193154,\n",
       "  'cash': 6216.6823579001575,\n",
       "  'portfolio': 6221.420270260033},\n",
       " {'action': 'SELL',\n",
       "  'price': 398.0277214424,\n",
       "  'date': '2020-10-22',\n",
       "  'coin': 0.0037755345873579475,\n",
       "  'cash': 6220.11868608788,\n",
       "  'portfolio': 6221.621453516913}]"
      ]
     },
     "execution_count": 7,
     "metadata": {},
     "output_type": "execute_result"
    }
   ],
   "source": [
    "best_t.all_history_trade_only"
   ]
  },
  {
   "cell_type": "code",
   "execution_count": 8,
   "metadata": {},
   "outputs": [
    {
     "data": {
      "text/plain": [
       "(0.1717, 24, 'BOLL-BANDS', 11, 13)"
      ]
     },
     "execution_count": 8,
     "metadata": {},
     "output_type": "execute_result"
    }
   ],
   "source": [
    "best_t.max_drawdown, best_t.num_transaction, best_t.high_strategy, best_t.num_buy_action, best_t.num_sell_action"
   ]
  },
  {
   "cell_type": "code",
   "execution_count": 9,
   "metadata": {},
   "outputs": [
    {
     "data": {
      "text/plain": [
       "{'buy_pct': 0.7,\n",
       " 'sell_pct': 0.7,\n",
       " 'tol_pct': 0.5,\n",
       " 'bollinger_sigma': 4,\n",
       " 'buy': 'by_percentage',\n",
       " 'sell': 'by_percentage',\n",
       " 'init_value': 4883.6520387825,\n",
       " 'max_final_value': 6221.621,\n",
       " 'rate_of_return': '27.397%',\n",
       " 'baseline_rate_of_return': '2.18%',\n",
       " 'coin_rate_of_return': '5.653%',\n",
       " 'trader_index': 2999}"
      ]
     },
     "execution_count": 9,
     "metadata": {},
     "output_type": "execute_result"
    }
   ],
   "source": [
    "info"
   ]
  },
  {
   "cell_type": "code",
   "execution_count": 10,
   "metadata": {},
   "outputs": [
    {
     "data": {
      "text/plain": [
       "[(393.1071990064, '2020-10-13'),\n",
       " (381.62561685459997, '2020-10-14'),\n",
       " (376.469523739, '2020-10-15'),\n",
       " (378.23951343650003, '2020-10-16'),\n",
       " (367.1522802856, '2020-10-17'),\n",
       " (368.23684389970003, '2020-10-18'),\n",
       " (376.5122024722, '2020-10-19'),\n",
       " (379.6604736902, '2020-10-20'),\n",
       " (368.8607245558, '2020-10-21'),\n",
       " (398.0277214424, '2020-10-22')]"
      ]
     },
     "execution_count": 10,
     "metadata": {},
     "output_type": "execute_result"
    }
   ],
   "source": [
    "best_t.crypto_prices[-10:]"
   ]
  }
 ],
 "metadata": {
  "kernelspec": {
   "display_name": "Python 3",
   "language": "python",
   "name": "python3"
  },
  "language_info": {
   "codemirror_mode": {
    "name": "ipython",
    "version": 3
   },
   "file_extension": ".py",
   "mimetype": "text/x-python",
   "name": "python",
   "nbconvert_exporter": "python",
   "pygments_lexer": "ipython3",
   "version": "3.7.6"
  }
 },
 "nbformat": 4,
 "nbformat_minor": 4
}
