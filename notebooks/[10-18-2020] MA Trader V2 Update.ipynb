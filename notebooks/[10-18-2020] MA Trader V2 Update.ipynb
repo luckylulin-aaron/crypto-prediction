{
 "cells": [
  {
   "cell_type": "code",
   "execution_count": 10,
   "metadata": {},
   "outputs": [],
   "source": [
    "import datetime\n",
    "import os\n",
    "import seaborn as sns\n",
    "import sys\n",
    "import time\n",
    "\n",
    "%matplotlib inline"
   ]
  },
  {
   "cell_type": "code",
   "execution_count": 11,
   "metadata": {},
   "outputs": [],
   "source": [
    "SCRIPTS_DIR = '../app'\n",
    "\n",
    "sys.path.insert(1, SCRIPTS_DIR)"
   ]
  },
  {
   "cell_type": "markdown",
   "metadata": {},
   "source": [
    "## Objective: New features to MA Trader \n",
    "### [1] Feat: MaxDrawdown as metric and NumExecution for information display [100%]\n",
    "### [2] Feat: new trading strategy based upon double moving averages [100%]\n",
    "### [3] Feat: new trading strategy w/ EMA [10%]\n",
    "### [4] Feat: new trading strategy w/ MACD"
   ]
  },
  {
   "cell_type": "markdown",
   "metadata": {},
   "source": [
    "#### Prepare Data"
   ]
  },
  {
   "cell_type": "code",
   "execution_count": 12,
   "metadata": {},
   "outputs": [],
   "source": [
    "# config\n",
    "\n",
    "SECONDS_IN_ONE_DAY = 86400\n",
    "\n",
    "#STRATEGIES = ['MA-SELVES', 'DOUBLE-MA']\n",
    "STRATEGIES = ['DOUBLE-MA']\n",
    "\n",
    "# simulation configuration\n",
    "TOL_PCTS = [0.08, 0.1, 0.15, 0.2, 0.25, 0.3, 0.35, 0.4, 0.45, 0.5]\n",
    "BUY_PCTS = [0.3, 0.4, 0.5, 0.6, 0.7]\n",
    "SELL_PCTS = [0.3, 0.4, 0.5, 0.6, 0.7]\n",
    "\n",
    "MA_LENGTHS = [3, 5, 10, 20, 30]\n",
    "EMA_LENGTHS = [10,26]\n",
    "\n",
    "BUY_STAS = ('by_percentage')\n",
    "SELL_STAS = ('by_percentage')\n",
    "\n",
    "# currencies (digital + real-world)\n",
    "CURS = ['BTC', 'ETH', 'LTC', 'BCH', 'ETC']\n",
    "FIAT = ['USD']\n",
    "\n",
    "# signals\n",
    "NO_ACTION_SIGNAL = 'NO ACTION'\n",
    "BUY_SIGNAL = 'BUY'\n",
    "SELL_SIGNAL = 'SELL'\n",
    "\n",
    "# epilson\n",
    "EP_COIN = 10e-3\n",
    "EP_CASH = 5"
   ]
  },
  {
   "cell_type": "code",
   "execution_count": 13,
   "metadata": {},
   "outputs": [],
   "source": [
    "from trader_driver import TraderDriver\n",
    "from util import load_csv\n",
    "\n",
    "name,l = load_csv(csv_fn='../tests/fixtures/BTC_HISTORY.csv')\n",
    "\n",
    "l = l[-30:]"
   ]
  },
  {
   "cell_type": "code",
   "execution_count": 14,
   "metadata": {
    "scrolled": false
   },
   "outputs": [
    {
     "name": "stdout",
     "output_type": "stream",
     "text": [
      "--> executed=feed_data using time=0.13 seconds.\n"
     ]
    },
    {
     "data": {
      "text/plain": [
       "{'action': 'NO ACTION', 'buy_percentage': 0.7, 'sell_percentage': 0.7}"
      ]
     },
     "execution_count": 14,
     "metadata": {},
     "output_type": "execute_result"
    }
   ],
   "source": [
    "init_amount = 3000\n",
    "cur_coin = 5\n",
    "mode = 'normal'\n",
    "\n",
    "t_driver = TraderDriver(\n",
    "    name=name,\n",
    "    init_amount=init_amount,\n",
    "    overall_stats=STRATEGIES,\n",
    "    cur_coin=cur_coin,\n",
    "    tol_pcts=TOL_PCTS,\n",
    "    ma_lengths=MA_LENGTHS,\n",
    "    ema_lengths=EMA_LENGTHS,\n",
    "    buy_pcts=BUY_PCTS,\n",
    "    sell_pcts=SELL_PCTS,\n",
    "    buy_stas=BUY_STAS,\n",
    "    sell_stas=SELL_STAS,\n",
    "    mode=mode\n",
    ")\n",
    "\n",
    "t_driver.feed_data(data_stream=l)\n",
    "\n",
    "info = t_driver.best_trader_info\n",
    "# best trader\n",
    "best_t = t_driver.traders[info['trader_index']]\n",
    "# for a new price, find the trade signal\n",
    "signal = best_t.trade_signal\n",
    "\n",
    "signal"
   ]
  },
  {
   "cell_type": "code",
   "execution_count": 15,
   "metadata": {},
   "outputs": [
    {
     "data": {
      "text/plain": [
       "[{'action': 'BUY',\n",
       "  'price': 11334.0267420322,\n",
       "  'date': '2020-10-12',\n",
       "  'coin': 5.18157712583895,\n",
       "  'cash': 900.0,\n",
       "  'portfolio': 59628.133710161004},\n",
       " {'action': 'BUY',\n",
       "  'price': 11666.211700321399,\n",
       "  'date': '2020-10-13',\n",
       "  'coin': 5.234499189646774,\n",
       "  'cash': 270.0,\n",
       "  'portfolio': 61336.77569158008}]"
      ]
     },
     "execution_count": 15,
     "metadata": {},
     "output_type": "execute_result"
    }
   ],
   "source": [
    "best_t.all_history[:2]"
   ]
  },
  {
   "cell_type": "code",
   "execution_count": 16,
   "metadata": {},
   "outputs": [
    {
     "data": {
      "text/plain": [
       "[{'action': 'BUY',\n",
       "  'price': 11334.0267420322,\n",
       "  'date': '2020-10-12',\n",
       "  'coin': 5.18157712583895,\n",
       "  'cash': 900.0,\n",
       "  'portfolio': 59628.133710161004},\n",
       " {'action': 'BUY',\n",
       "  'price': 11666.211700321399,\n",
       "  'date': '2020-10-13',\n",
       "  'coin': 5.234499189646774,\n",
       "  'cash': 270.0,\n",
       "  'portfolio': 61336.77569158008},\n",
       " {'action': 'BUY',\n",
       "  'price': 11443.7327918222,\n",
       "  'date': '2020-10-14',\n",
       "  'coin': 5.250684467944461,\n",
       "  'cash': 81.0,\n",
       "  'portfolio': 60168.43002532753},\n",
       " {'action': 'BUY',\n",
       "  'price': 11395.54736637,\n",
       "  'date': '2020-10-15',\n",
       "  'coin': 5.255560582993044,\n",
       "  'cash': 24.300000000000004,\n",
       "  'portfolio': 59914.28956032437},\n",
       " {'action': 'BUY',\n",
       "  'price': 11504.5490067109,\n",
       "  'date': '2020-10-16',\n",
       "  'coin': 5.2570095576543086,\n",
       "  'cash': 7.290000000000003,\n",
       "  'portfolio': 60486.81408478159},\n",
       " {'action': 'BUY',\n",
       "  'price': 11355.160439450901,\n",
       "  'date': '2020-10-17',\n",
       "  'coin': 5.25744996886881,\n",
       "  'cash': 2.187000000000001,\n",
       "  'portfolio': 59701.37489889149},\n",
       " {'action': 'BUY',\n",
       "  'price': 11358.706379629699,\n",
       "  'date': '2020-10-18',\n",
       "  'coin': 5.25758205098713,\n",
       "  'cash': 0.6561000000000003,\n",
       "  'portfolio': 59719.98688397411},\n",
       " {'action': 'BUY',\n",
       "  'price': 11471.002547787,\n",
       "  'date': '2020-10-19',\n",
       "  'coin': 5.2576212877145325,\n",
       "  'cash': 0.19683000000000012,\n",
       "  'portfolio': 60310.38401667257},\n",
       " {'action': 'BUY',\n",
       "  'price': 11776.592997329499,\n",
       "  'date': '2020-10-20',\n",
       "  'coin': 5.257632753286964,\n",
       "  'cash': 0.059049000000000046,\n",
       "  'portfolio': 61917.06011388947},\n",
       " {'action': 'BUY',\n",
       "  'price': 11936.3629133377,\n",
       "  'date': '2020-10-21',\n",
       "  'coin': 5.257636146918197,\n",
       "  'cash': 0.017714700000000014,\n",
       "  'portfolio': 62757.070830598095},\n",
       " {'action': 'BUY',\n",
       "  'price': 13102.9344615485,\n",
       "  'date': '2020-10-22',\n",
       "  'coin': 5.257637074365727,\n",
       "  'cash': 0.0053144100000000055,\n",
       "  'portfolio': 68890.47932243171},\n",
       " {'action': 'BUY',\n",
       "  'price': 13102.9344615485,\n",
       "  'date': '2020-10-22',\n",
       "  'coin': 5.2576373525999855,\n",
       "  'cash': 0.001594323000000002,\n",
       "  'portfolio': 68890.47924802997},\n",
       " {'action': 'BUY',\n",
       "  'price': 13102.9344615485,\n",
       "  'date': '2020-10-22',\n",
       "  'coin': 5.257637436070263,\n",
       "  'cash': 0.00047829690000000076,\n",
       "  'portfolio': 68890.47922570947}]"
      ]
     },
     "execution_count": 16,
     "metadata": {},
     "output_type": "execute_result"
    }
   ],
   "source": [
    "best_t.all_history_trade_only"
   ]
  },
  {
   "cell_type": "code",
   "execution_count": 17,
   "metadata": {},
   "outputs": [
    {
     "data": {
      "text/plain": [
       "(0.0267, 13, 'DOUBLE-MA')"
      ]
     },
     "execution_count": 17,
     "metadata": {},
     "output_type": "execute_result"
    }
   ],
   "source": [
    "best_t.max_drawdown, best_t.num_transaction, best_t.high_strategy"
   ]
  },
  {
   "cell_type": "code",
   "execution_count": 18,
   "metadata": {},
   "outputs": [
    {
     "data": {
      "text/plain": [
       "{'buy_pct': 0.7,\n",
       " 'sell_pct': 0.7,\n",
       " 'tol_pct': 0.5,\n",
       " 'buy': 'by_percentage',\n",
       " 'sell': 'by_percentage',\n",
       " 'init_value': 59628.133710161004,\n",
       " 'max_final_value': 68890.479,\n",
       " 'rate_of_return': '15.534%',\n",
       " 'baseline_rate_of_return': '14.903%',\n",
       " 'coin_rate_of_return': '15.607%',\n",
       " 'trader_index': 249}"
      ]
     },
     "execution_count": 18,
     "metadata": {},
     "output_type": "execute_result"
    }
   ],
   "source": [
    "info"
   ]
  },
  {
   "cell_type": "code",
   "execution_count": 19,
   "metadata": {},
   "outputs": [
    {
     "data": {
      "text/plain": [
       "[(11666.211700321399, '2020-10-13'),\n",
       " (11443.7327918222, '2020-10-14'),\n",
       " (11395.54736637, '2020-10-15'),\n",
       " (11504.5490067109, '2020-10-16'),\n",
       " (11355.160439450901, '2020-10-17'),\n",
       " (11358.706379629699, '2020-10-18'),\n",
       " (11471.002547787, '2020-10-19'),\n",
       " (11776.592997329499, '2020-10-20'),\n",
       " (11936.3629133377, '2020-10-21'),\n",
       " (13102.9344615485, '2020-10-22')]"
      ]
     },
     "execution_count": 19,
     "metadata": {},
     "output_type": "execute_result"
    }
   ],
   "source": [
    "best_t.crypto_prices[-10:]"
   ]
  },
  {
   "cell_type": "code",
   "execution_count": 20,
   "metadata": {},
   "outputs": [
    {
     "data": {
      "text/plain": [
       "{'3': 12271.963457405232,\n",
       " '5': 11929.11985992648,\n",
       " '10': 11701.08006043078,\n",
       " '20': 11271.521320013331,\n",
       " '30': 11070.433430289284}"
      ]
     },
     "execution_count": 20,
     "metadata": {},
     "output_type": "execute_result"
    }
   ],
   "source": [
    "best_t.moving_averages"
   ]
  },
  {
   "cell_type": "code",
   "execution_count": null,
   "metadata": {},
   "outputs": [],
   "source": []
  }
 ],
 "metadata": {
  "kernelspec": {
   "display_name": "Python 3",
   "language": "python",
   "name": "python3"
  },
  "language_info": {
   "codemirror_mode": {
    "name": "ipython",
    "version": 3
   },
   "file_extension": ".py",
   "mimetype": "text/x-python",
   "name": "python",
   "nbconvert_exporter": "python",
   "pygments_lexer": "ipython3",
   "version": "3.7.6"
  }
 },
 "nbformat": 4,
 "nbformat_minor": 4
}
