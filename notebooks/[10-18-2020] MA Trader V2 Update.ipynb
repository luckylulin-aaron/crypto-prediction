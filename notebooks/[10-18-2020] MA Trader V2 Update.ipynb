{
 "cells": [
  {
   "cell_type": "code",
   "execution_count": 6,
   "metadata": {},
   "outputs": [],
   "source": [
    "import datetime\n",
    "import os\n",
    "import seaborn as sns\n",
    "import sys\n",
    "import time\n",
    "\n",
    "%matplotlib inline"
   ]
  },
  {
   "cell_type": "code",
   "execution_count": 7,
   "metadata": {},
   "outputs": [],
   "source": [
    "SCRIPTS_DIR = '../app'\n",
    "\n",
    "sys.path.insert(1, SCRIPTS_DIR)"
   ]
  },
  {
   "cell_type": "markdown",
   "metadata": {},
   "source": [
    "## Objective: New features to MA Trader \n",
    "### [1] Feat: MaxDrawdown as metric and NumExecution for information display [100%]\n",
    "### [2] Feat: new trading strategy based upon double moving averages [100%]\n",
    "### [3] Feat: new trading strategy w/ EMA [10%]\n",
    "### [4] Feat: new trading strategy w/ MACD"
   ]
  },
  {
   "cell_type": "markdown",
   "metadata": {},
   "source": [
    "#### Prepare Data"
   ]
  },
  {
   "cell_type": "code",
   "execution_count": 8,
   "metadata": {},
   "outputs": [],
   "source": [
    "# config\n",
    "\n",
    "SECONDS_IN_ONE_DAY = 86400\n",
    "\n",
    "STRATEGIES = ['MA-SELVES', 'DOUBLE-MA']\n",
    "#STRATEGIES = ['DOUBLE-MA']\n",
    "\n",
    "# simulation configuration\n",
    "TOL_PCTS = [0.08, 0.1, 0.15, 0.2, 0.25, 0.3, 0.35, 0.4, 0.45, 0.5]\n",
    "BUY_PCTS = [0.3, 0.4, 0.5, 0.6, 0.7]\n",
    "SELL_PCTS = [0.3, 0.4, 0.5, 0.6, 0.7]\n",
    "\n",
    "MA_LENGTHS = [3, 5, 10, 20, 30]\n",
    "EMA_LENGTHS = [10, 26]\n",
    "\n",
    "BUY_STAS = ('by_percentage')\n",
    "SELL_STAS = ('by_percentage')\n",
    "\n",
    "# currencies (digital + real-world)\n",
    "CURS = ['BTC', 'ETH', 'LTC', 'BCH', 'ETC']\n",
    "FIAT = ['USD']\n",
    "\n",
    "# signals\n",
    "NO_ACTION_SIGNAL = 'NO ACTION'\n",
    "BUY_SIGNAL = 'BUY'\n",
    "SELL_SIGNAL = 'SELL'\n",
    "\n",
    "# epilson\n",
    "EP_COIN = 10e-3\n",
    "EP_CASH = 5"
   ]
  },
  {
   "cell_type": "code",
   "execution_count": 9,
   "metadata": {},
   "outputs": [],
   "source": [
    "from trader_driver import TraderDriver\n",
    "from util import load_csv\n",
    "\n",
    "name,l = load_csv(csv_fn='../tests/fixtures/BTC_HISTORY.csv')\n",
    "\n",
    "l = l[-100:]"
   ]
  },
  {
   "cell_type": "code",
   "execution_count": 10,
   "metadata": {
    "scrolled": false
   },
   "outputs": [
    {
     "name": "stdout",
     "output_type": "stream",
     "text": [
      "\n",
      "DEBUG: [None, None, None, None, None, None, None, None, None] 10\n"
     ]
    },
    {
     "ename": "TypeError",
     "evalue": "unsupported operand type(s) for *: 'NoneType' and 'float'",
     "output_type": "error",
     "traceback": [
      "\u001b[1;31m---------------------------------------------------------------------------\u001b[0m",
      "\u001b[1;31mTypeError\u001b[0m                                 Traceback (most recent call last)",
      "\u001b[1;32m<ipython-input-10-92dd3d894d84>\u001b[0m in \u001b[0;36m<module>\u001b[1;34m\u001b[0m\n\u001b[0;32m     18\u001b[0m )\n\u001b[0;32m     19\u001b[0m \u001b[1;33m\u001b[0m\u001b[0m\n\u001b[1;32m---> 20\u001b[1;33m \u001b[0mt_driver\u001b[0m\u001b[1;33m.\u001b[0m\u001b[0mfeed_data\u001b[0m\u001b[1;33m(\u001b[0m\u001b[0mdata_stream\u001b[0m\u001b[1;33m=\u001b[0m\u001b[0ml\u001b[0m\u001b[1;33m)\u001b[0m\u001b[1;33m\u001b[0m\u001b[1;33m\u001b[0m\u001b[0m\n\u001b[0m\u001b[0;32m     21\u001b[0m \u001b[1;33m\u001b[0m\u001b[0m\n\u001b[0;32m     22\u001b[0m \u001b[0minfo\u001b[0m \u001b[1;33m=\u001b[0m \u001b[0mt_driver\u001b[0m\u001b[1;33m.\u001b[0m\u001b[0mbest_trader_info\u001b[0m\u001b[1;33m\u001b[0m\u001b[1;33m\u001b[0m\u001b[0m\n",
      "\u001b[1;32m~\\OneDrive\\Documents\\GitHub\\crypto-prediction\\app\\util.py\u001b[0m in \u001b[0;36mwrapper_timer\u001b[1;34m(*args, **kwargs)\u001b[0m\n\u001b[0;32m     14\u001b[0m         \u001b[0mstart_time\u001b[0m \u001b[1;33m=\u001b[0m \u001b[0mtime\u001b[0m\u001b[1;33m.\u001b[0m\u001b[0mperf_counter\u001b[0m\u001b[1;33m(\u001b[0m\u001b[1;33m)\u001b[0m\u001b[1;33m\u001b[0m\u001b[1;33m\u001b[0m\u001b[0m\n\u001b[0;32m     15\u001b[0m         \u001b[1;31m# do something...\u001b[0m\u001b[1;33m\u001b[0m\u001b[1;33m\u001b[0m\u001b[1;33m\u001b[0m\u001b[0m\n\u001b[1;32m---> 16\u001b[1;33m         \u001b[0mvalue\u001b[0m \u001b[1;33m=\u001b[0m \u001b[0mfunc\u001b[0m\u001b[1;33m(\u001b[0m\u001b[1;33m*\u001b[0m\u001b[0margs\u001b[0m\u001b[1;33m,\u001b[0m \u001b[1;33m**\u001b[0m\u001b[0mkwargs\u001b[0m\u001b[1;33m)\u001b[0m\u001b[1;33m\u001b[0m\u001b[1;33m\u001b[0m\u001b[0m\n\u001b[0m\u001b[0;32m     17\u001b[0m         \u001b[0mend_time\u001b[0m \u001b[1;33m=\u001b[0m \u001b[0mtime\u001b[0m\u001b[1;33m.\u001b[0m\u001b[0mperf_counter\u001b[0m\u001b[1;33m(\u001b[0m\u001b[1;33m)\u001b[0m\u001b[1;33m\u001b[0m\u001b[1;33m\u001b[0m\u001b[0m\n\u001b[0;32m     18\u001b[0m         \u001b[0mrun_time\u001b[0m \u001b[1;33m=\u001b[0m \u001b[0mend_time\u001b[0m \u001b[1;33m-\u001b[0m \u001b[0mstart_time\u001b[0m\u001b[1;33m\u001b[0m\u001b[1;33m\u001b[0m\u001b[0m\n",
      "\u001b[1;32m~\\OneDrive\\Documents\\GitHub\\crypto-prediction\\app\\trader_driver.py\u001b[0m in \u001b[0;36mfeed_data\u001b[1;34m(self, data_stream)\u001b[0m\n\u001b[0;32m     70\u001b[0m             \u001b[1;32mfor\u001b[0m \u001b[0mi\u001b[0m \u001b[1;32min\u001b[0m \u001b[0mrange\u001b[0m\u001b[1;33m(\u001b[0m\u001b[1;36m1\u001b[0m\u001b[1;33m,\u001b[0m \u001b[0mlen\u001b[0m\u001b[1;33m(\u001b[0m\u001b[0mdata_stream\u001b[0m\u001b[1;33m)\u001b[0m\u001b[1;33m)\u001b[0m\u001b[1;33m:\u001b[0m\u001b[1;33m\u001b[0m\u001b[1;33m\u001b[0m\u001b[0m\n\u001b[0;32m     71\u001b[0m                 \u001b[0mp\u001b[0m\u001b[1;33m,\u001b[0m\u001b[0md\u001b[0m \u001b[1;33m=\u001b[0m \u001b[0mdata_stream\u001b[0m\u001b[1;33m[\u001b[0m\u001b[0mi\u001b[0m\u001b[1;33m]\u001b[0m\u001b[1;33m\u001b[0m\u001b[1;33m\u001b[0m\u001b[0m\n\u001b[1;32m---> 72\u001b[1;33m                 \u001b[0mt\u001b[0m\u001b[1;33m.\u001b[0m\u001b[0madd_new_day\u001b[0m\u001b[1;33m(\u001b[0m\u001b[0mp\u001b[0m\u001b[1;33m,\u001b[0m\u001b[0md\u001b[0m\u001b[1;33m)\u001b[0m\u001b[1;33m\u001b[0m\u001b[1;33m\u001b[0m\u001b[0m\n\u001b[0m\u001b[0;32m     73\u001b[0m             \u001b[1;31m# decide best trader while we loop\u001b[0m\u001b[1;33m\u001b[0m\u001b[1;33m\u001b[0m\u001b[1;33m\u001b[0m\u001b[0m\n\u001b[0;32m     74\u001b[0m             \u001b[0mtmp_final_p\u001b[0m \u001b[1;33m=\u001b[0m \u001b[0mt\u001b[0m\u001b[1;33m.\u001b[0m\u001b[0mall_history\u001b[0m\u001b[1;33m[\u001b[0m\u001b[1;33m-\u001b[0m\u001b[1;36m1\u001b[0m\u001b[1;33m]\u001b[0m\u001b[1;33m[\u001b[0m\u001b[1;34m'portfolio'\u001b[0m\u001b[1;33m]\u001b[0m\u001b[1;33m\u001b[0m\u001b[1;33m\u001b[0m\u001b[0m\n",
      "\u001b[1;32m~\\OneDrive\\Documents\\GitHub\\crypto-prediction\\app\\ma_trader.py\u001b[0m in \u001b[0;36madd_new_day\u001b[1;34m(self, new_p, d)\u001b[0m\n\u001b[0;32m     65\u001b[0m             \u001b[0mself\u001b[0m\u001b[1;33m.\u001b[0m\u001b[0madd_new_moving_averages\u001b[0m\u001b[1;33m(\u001b[0m\u001b[0mqueue_name\u001b[0m\u001b[1;33m=\u001b[0m\u001b[0mqueue_name\u001b[0m\u001b[1;33m,\u001b[0m \u001b[0mnew_p\u001b[0m\u001b[1;33m=\u001b[0m\u001b[0mnew_p\u001b[0m\u001b[1;33m)\u001b[0m\u001b[1;33m\u001b[0m\u001b[1;33m\u001b[0m\u001b[0m\n\u001b[0;32m     66\u001b[0m         \u001b[1;32mfor\u001b[0m \u001b[0mqueue_name\u001b[0m \u001b[1;32min\u001b[0m \u001b[0mself\u001b[0m\u001b[1;33m.\u001b[0m\u001b[0mexp_moving_averages\u001b[0m\u001b[1;33m:\u001b[0m\u001b[1;33m\u001b[0m\u001b[1;33m\u001b[0m\u001b[0m\n\u001b[1;32m---> 67\u001b[1;33m             \u001b[0mself\u001b[0m\u001b[1;33m.\u001b[0m\u001b[0madd_new_exponential_moving_averages\u001b[0m\u001b[1;33m(\u001b[0m\u001b[0mqueue_name\u001b[0m\u001b[1;33m=\u001b[0m\u001b[0mqueue_name\u001b[0m\u001b[1;33m,\u001b[0m \u001b[0mnew_p\u001b[0m\u001b[1;33m=\u001b[0m\u001b[0mnew_p\u001b[0m\u001b[1;33m)\u001b[0m\u001b[1;33m\u001b[0m\u001b[1;33m\u001b[0m\u001b[0m\n\u001b[0m\u001b[0;32m     68\u001b[0m \u001b[1;33m\u001b[0m\u001b[0m\n\u001b[0;32m     69\u001b[0m         \u001b[1;31m# Execute trading strategy\u001b[0m\u001b[1;33m\u001b[0m\u001b[1;33m\u001b[0m\u001b[1;33m\u001b[0m\u001b[0m\n",
      "\u001b[1;32m~\\OneDrive\\Documents\\GitHub\\crypto-prediction\\app\\ma_trader.py\u001b[0m in \u001b[0;36madd_new_exponential_moving_averages\u001b[1;34m(self, queue_name, new_p)\u001b[0m\n\u001b[0;32m    130\u001b[0m             \u001b[0mprint\u001b[0m\u001b[1;33m(\u001b[0m\u001b[1;34m'\\nDEBUG:'\u001b[0m\u001b[1;33m,\u001b[0m \u001b[0mself\u001b[0m\u001b[1;33m.\u001b[0m\u001b[0mexp_moving_averages\u001b[0m\u001b[1;33m[\u001b[0m\u001b[0mqueue_name\u001b[0m\u001b[1;33m]\u001b[0m\u001b[1;33m,\u001b[0m \u001b[0mqueue_name\u001b[0m\u001b[1;33m)\u001b[0m\u001b[1;33m\u001b[0m\u001b[1;33m\u001b[0m\u001b[0m\n\u001b[0;32m    131\u001b[0m             \u001b[0mold_ema\u001b[0m \u001b[1;33m=\u001b[0m \u001b[0mself\u001b[0m\u001b[1;33m.\u001b[0m\u001b[0mexp_moving_averages\u001b[0m\u001b[1;33m[\u001b[0m\u001b[0mqueue_name\u001b[0m\u001b[1;33m]\u001b[0m\u001b[1;33m[\u001b[0m\u001b[1;33m-\u001b[0m\u001b[1;36m1\u001b[0m\u001b[1;33m]\u001b[0m\u001b[1;33m\u001b[0m\u001b[1;33m\u001b[0m\u001b[0m\n\u001b[1;32m--> 132\u001b[1;33m             \u001b[0mnew_ema\u001b[0m \u001b[1;33m=\u001b[0m \u001b[0mema_helper\u001b[0m\u001b[1;33m(\u001b[0m\u001b[0mnew_price\u001b[0m\u001b[1;33m=\u001b[0m\u001b[0mnew_p\u001b[0m\u001b[1;33m,\u001b[0m \u001b[0mold_ema\u001b[0m\u001b[1;33m=\u001b[0m\u001b[0mold_ema\u001b[0m\u001b[1;33m,\u001b[0m \u001b[0mnum_of_days\u001b[0m\u001b[1;33m=\u001b[0m\u001b[0mmax_l\u001b[0m\u001b[1;33m)\u001b[0m\u001b[1;33m\u001b[0m\u001b[1;33m\u001b[0m\u001b[0m\n\u001b[0m\u001b[0;32m    133\u001b[0m             \u001b[0mself\u001b[0m\u001b[1;33m.\u001b[0m\u001b[0mexp_moving_averages\u001b[0m\u001b[1;33m[\u001b[0m\u001b[0mqueue_name\u001b[0m\u001b[1;33m]\u001b[0m\u001b[1;33m.\u001b[0m\u001b[0mappend\u001b[0m\u001b[1;33m(\u001b[0m\u001b[0mnew_ema\u001b[0m\u001b[1;33m)\u001b[0m\u001b[1;33m\u001b[0m\u001b[1;33m\u001b[0m\u001b[0m\n\u001b[0;32m    134\u001b[0m \u001b[1;33m\u001b[0m\u001b[0m\n",
      "\u001b[1;32m~\\OneDrive\\Documents\\GitHub\\crypto-prediction\\app\\util.py\u001b[0m in \u001b[0;36mema_helper\u001b[1;34m(new_price, old_ema, num_of_days)\u001b[0m\n\u001b[0;32m     60\u001b[0m     '''\n\u001b[0;32m     61\u001b[0m     \u001b[0msmoothing_factor\u001b[0m \u001b[1;33m=\u001b[0m \u001b[1;36m2.0\u001b[0m \u001b[1;33m/\u001b[0m \u001b[1;33m(\u001b[0m\u001b[0mnum_of_days\u001b[0m \u001b[1;33m+\u001b[0m \u001b[1;36m1\u001b[0m\u001b[1;33m)\u001b[0m\u001b[1;33m\u001b[0m\u001b[1;33m\u001b[0m\u001b[0m\n\u001b[1;32m---> 62\u001b[1;33m     \u001b[0mema\u001b[0m \u001b[1;33m=\u001b[0m \u001b[0mnew_price\u001b[0m \u001b[1;33m*\u001b[0m \u001b[0msmoothing_factor\u001b[0m \u001b[1;33m+\u001b[0m \u001b[0mold_ema\u001b[0m \u001b[1;33m*\u001b[0m \u001b[1;33m(\u001b[0m\u001b[1;36m1\u001b[0m \u001b[1;33m-\u001b[0m \u001b[0msmoothing_factor\u001b[0m\u001b[1;33m)\u001b[0m\u001b[1;33m\u001b[0m\u001b[1;33m\u001b[0m\u001b[0m\n\u001b[0m\u001b[0;32m     63\u001b[0m \u001b[1;33m\u001b[0m\u001b[0m\n\u001b[0;32m     64\u001b[0m     \u001b[1;32mreturn\u001b[0m \u001b[0mema\u001b[0m\u001b[1;33m\u001b[0m\u001b[1;33m\u001b[0m\u001b[0m\n",
      "\u001b[1;31mTypeError\u001b[0m: unsupported operand type(s) for *: 'NoneType' and 'float'"
     ]
    }
   ],
   "source": [
    "init_amount = 3000\n",
    "cur_coin = 5\n",
    "mode = 'normal'\n",
    "\n",
    "t_driver = TraderDriver(\n",
    "    name=name,\n",
    "    init_amount=init_amount,\n",
    "    overall_stats=STRATEGIES,\n",
    "    cur_coin=cur_coin,\n",
    "    tol_pcts=TOL_PCTS,\n",
    "    ma_lengths=MA_LENGTHS,\n",
    "    ema_lengths=EMA_LENGTHS,\n",
    "    buy_pcts=BUY_PCTS,\n",
    "    sell_pcts=SELL_PCTS,\n",
    "    buy_stas=BUY_STAS,\n",
    "    sell_stas=SELL_STAS,\n",
    "    mode=mode\n",
    ")\n",
    "\n",
    "t_driver.feed_data(data_stream=l)\n",
    "\n",
    "info = t_driver.best_trader_info\n",
    "# best trader\n",
    "best_t = t_driver.traders[info['trader_index']]\n",
    "# for a new price, find the trade signal\n",
    "signal = best_t.trade_signal\n",
    "\n",
    "signal"
   ]
  },
  {
   "cell_type": "code",
   "execution_count": null,
   "metadata": {},
   "outputs": [],
   "source": [
    "best_t.all_history[:2]"
   ]
  },
  {
   "cell_type": "code",
   "execution_count": null,
   "metadata": {},
   "outputs": [],
   "source": [
    "best_t.all_history_trade_only"
   ]
  },
  {
   "cell_type": "code",
   "execution_count": null,
   "metadata": {},
   "outputs": [],
   "source": [
    "best_t.max_drawdown, best_t.num_transaction, best_t.high_strategy"
   ]
  },
  {
   "cell_type": "code",
   "execution_count": null,
   "metadata": {},
   "outputs": [],
   "source": [
    "info"
   ]
  },
  {
   "cell_type": "code",
   "execution_count": null,
   "metadata": {},
   "outputs": [],
   "source": [
    "best_t.crypto_prices[-10:]"
   ]
  },
  {
   "cell_type": "code",
   "execution_count": null,
   "metadata": {},
   "outputs": [],
   "source": [
    "best_t.moving_averages"
   ]
  },
  {
   "cell_type": "code",
   "execution_count": null,
   "metadata": {},
   "outputs": [],
   "source": [
    "best_t.exp_moving_averages"
   ]
  },
  {
   "cell_type": "code",
   "execution_count": null,
   "metadata": {},
   "outputs": [],
   "source": []
  }
 ],
 "metadata": {
  "kernelspec": {
   "display_name": "Python 3",
   "language": "python",
   "name": "python3"
  }
 },
 "nbformat": 4,
 "nbformat_minor": 4
}
