{
 "cells": [
  {
   "cell_type": "code",
   "execution_count": 1,
   "metadata": {},
   "outputs": [],
   "source": [
    "import datetime\n",
    "import os\n",
    "import seaborn as sns\n",
    "import sys\n",
    "import time\n",
    "\n",
    "%matplotlib inline"
   ]
  },
  {
   "cell_type": "code",
   "execution_count": 2,
   "metadata": {},
   "outputs": [],
   "source": [
    "SCRIPTS_DIR = '../app'\n",
    "\n",
    "sys.path.insert(1, SCRIPTS_DIR)"
   ]
  },
  {
   "cell_type": "markdown",
   "metadata": {},
   "source": [
    "## Objective: New features to MA Trader \n",
    "### [1] Add MaxDrawdown as metric and NumExecution for information display\n",
    "### [2] Add new trading strategy based upon double moving averages"
   ]
  },
  {
   "cell_type": "markdown",
   "metadata": {},
   "source": [
    "#### Prepare Data"
   ]
  },
  {
   "cell_type": "code",
   "execution_count": 3,
   "metadata": {},
   "outputs": [],
   "source": [
    "# config\n",
    "\n",
    "SECONDS_IN_ONE_DAY = 86400\n",
    "\n",
    "# simulation configuration\n",
    "TOL_PCTS = [0.08, 0.1, 0.15, 0.2, 0.25, 0.3, 0.35, 0.4, 0.45, 0.5]\n",
    "BUY_PCTS = [0.3, 0.4]\n",
    "SELL_PCTS = [0.3, 0.4]\n",
    "MA_LENGTHS = [3, 5, 10, 20, 30]\n",
    "BUY_STAS = ('by_percentage')\n",
    "SELL_STAS = ('by_percentage')\n",
    "\n",
    "# currencies (digital + real-world)\n",
    "CURS = ['BTC', 'ETH', 'LTC', 'BCH', 'ETC']\n",
    "FIAT = ['USD']\n",
    "\n",
    "# signals\n",
    "NO_ACTION_SIGNAL = 'NO ACTION'\n",
    "BUY_SIGNAL = 'BUY'\n",
    "SELL_SIGNAL = 'SELL'\n",
    "\n",
    "# epilson\n",
    "EP_COIN = 10e-3\n",
    "EP_CASH = 5"
   ]
  },
  {
   "cell_type": "code",
   "execution_count": 4,
   "metadata": {},
   "outputs": [],
   "source": [
    "from trader_driver import TraderDriver\n",
    "from util import load_csv\n",
    "\n",
    "name,l = load_csv(csv_fn='../tests/fixtures/BTC_HISTORY.csv')\n",
    "\n",
    "l = l[-90:]"
   ]
  },
  {
   "cell_type": "code",
   "execution_count": 5,
   "metadata": {},
   "outputs": [
    {
     "name": "stdout",
     "output_type": "stream",
     "text": [
      "--> executed=feed_data using time=1.34 seconds.\n"
     ]
    }
   ],
   "source": [
    "init_amount = 3000\n",
    "cur_coin = 2\n",
    "mode = 'normal'\n",
    "\n",
    "t_driver = TraderDriver(\n",
    "    name=name,\n",
    "    init_amount=init_amount,\n",
    "    cur_coin=cur_coin,\n",
    "    tol_pcts=TOL_PCTS,\n",
    "    ma_lengths=MA_LENGTHS,\n",
    "    buy_pcts=BUY_PCTS,\n",
    "    sell_pcts=SELL_PCTS,\n",
    "    buy_stas=BUY_STAS,\n",
    "    sell_stas=SELL_STAS,\n",
    "    mode=mode\n",
    ")\n",
    "\n",
    "t_driver.feed_data(data_stream=l)\n",
    "\n",
    "info = t_driver.best_trader_info\n",
    "# best trader\n",
    "best_t = t_driver.traders[info['trader_index']]\n",
    "# for a new price, find the trade signal\n",
    "signal = best_t.trade_signal"
   ]
  },
  {
   "cell_type": "code",
   "execution_count": 6,
   "metadata": {},
   "outputs": [
    {
     "data": {
      "text/plain": [
       "[{'action': 'NO ACTION',\n",
       "  'price': 11811.7870541507,\n",
       "  'date': '2019-08-06',\n",
       "  'coin': 2,\n",
       "  'cash': 3000,\n",
       "  'portfolio': 26623.5741083014},\n",
       " {'action': 'NO ACTION',\n",
       "  'price': 11310.187223605,\n",
       "  'date': '2019-08-07',\n",
       "  'coin': 2,\n",
       "  'cash': 3000,\n",
       "  'portfolio': 25620.37444721},\n",
       " {'action': 'NO ACTION',\n",
       "  'price': 11956.0472230184,\n",
       "  'date': '2019-08-08',\n",
       "  'coin': 2,\n",
       "  'cash': 3000,\n",
       "  'portfolio': 26912.0944460368},\n",
       " {'action': 'NO ACTION',\n",
       "  'price': 11817.4554825164,\n",
       "  'date': '2019-08-09',\n",
       "  'coin': 2,\n",
       "  'cash': 3000,\n",
       "  'portfolio': 26634.9109650328},\n",
       " {'action': 'NO ACTION',\n",
       "  'price': 11827.574571691799,\n",
       "  'date': '2019-08-10',\n",
       "  'coin': 2,\n",
       "  'cash': 3000,\n",
       "  'portfolio': 26655.149143383598},\n",
       " {'action': 'NO ACTION',\n",
       "  'price': 11278.2812549022,\n",
       "  'date': '2019-08-11',\n",
       "  'coin': 2,\n",
       "  'cash': 3000,\n",
       "  'portfolio': 25556.5625098044},\n",
       " {'action': 'NO ACTION',\n",
       "  'price': 11485.3657829898,\n",
       "  'date': '2019-08-12',\n",
       "  'coin': 2,\n",
       "  'cash': 3000,\n",
       "  'portfolio': 25970.7315659796},\n",
       " {'action': 'NO ACTION',\n",
       "  'price': 11391.9686539038,\n",
       "  'date': '2019-08-13',\n",
       "  'coin': 2,\n",
       "  'cash': 3000,\n",
       "  'portfolio': 25783.9373078076},\n",
       " {'action': 'NO ACTION',\n",
       "  'price': 10869.3791128623,\n",
       "  'date': '2019-08-14',\n",
       "  'coin': 2,\n",
       "  'cash': 3000,\n",
       "  'portfolio': 24738.7582257246},\n",
       " {'action': 'NO ACTION',\n",
       "  'price': 10211.498581698199,\n",
       "  'date': '2019-08-15',\n",
       "  'coin': 2,\n",
       "  'cash': 3000,\n",
       "  'portfolio': 23422.997163396398},\n",
       " {'action': 'NO ACTION',\n",
       "  'price': 10386.539550019499,\n",
       "  'date': '2019-08-16',\n",
       "  'coin': 2,\n",
       "  'cash': 3000,\n",
       "  'portfolio': 23773.079100038998},\n",
       " {'action': 'NO ACTION',\n",
       "  'price': 10388.4505925604,\n",
       "  'date': '2019-08-17',\n",
       "  'coin': 2,\n",
       "  'cash': 3000,\n",
       "  'portfolio': 23776.9011851208},\n",
       " {'action': 'NO ACTION',\n",
       "  'price': 10212.1014417394,\n",
       "  'date': '2019-08-18',\n",
       "  'coin': 2,\n",
       "  'cash': 3000,\n",
       "  'portfolio': 23424.2028834788},\n",
       " {'action': 'NO ACTION',\n",
       "  'price': 10335.3728385716,\n",
       "  'date': '2019-08-19',\n",
       "  'coin': 2,\n",
       "  'cash': 3000,\n",
       "  'portfolio': 23670.7456771432},\n",
       " {'action': 'NO ACTION',\n",
       "  'price': 10774.8103058331,\n",
       "  'date': '2019-08-20',\n",
       "  'coin': 2,\n",
       "  'cash': 3000,\n",
       "  'portfolio': 24549.6206116662},\n",
       " {'action': 'NO ACTION',\n",
       "  'price': 10818.5070076193,\n",
       "  'date': '2019-08-21',\n",
       "  'coin': 2,\n",
       "  'cash': 3000,\n",
       "  'portfolio': 24637.0140152386},\n",
       " {'action': 'NO ACTION',\n",
       "  'price': 10064.9167944793,\n",
       "  'date': '2019-08-22',\n",
       "  'coin': 2,\n",
       "  'cash': 3000,\n",
       "  'portfolio': 23129.8335889586},\n",
       " {'action': 'NO ACTION',\n",
       "  'price': 10161.1647494901,\n",
       "  'date': '2019-08-23',\n",
       "  'coin': 2,\n",
       "  'cash': 3000,\n",
       "  'portfolio': 23322.3294989802},\n",
       " {'action': 'NO ACTION',\n",
       "  'price': 10364.2813536875,\n",
       "  'date': '2019-08-24',\n",
       "  'coin': 2,\n",
       "  'cash': 3000,\n",
       "  'portfolio': 23728.562707375},\n",
       " {'action': 'NO ACTION',\n",
       "  'price': 10171.4974606754,\n",
       "  'date': '2019-08-25',\n",
       "  'coin': 2,\n",
       "  'cash': 3000,\n",
       "  'portfolio': 23342.9949213508}]"
      ]
     },
     "execution_count": 6,
     "metadata": {},
     "output_type": "execute_result"
    }
   ],
   "source": [
    "best_t.all_history[:20]"
   ]
  },
  {
   "cell_type": "code",
   "execution_count": 7,
   "metadata": {},
   "outputs": [
    {
     "data": {
      "text/plain": [
       "(0.3524, 123)"
      ]
     },
     "execution_count": 7,
     "metadata": {},
     "output_type": "execute_result"
    }
   ],
   "source": [
    "best_t.max_drawdown, best_t.num_transaction"
   ]
  },
  {
   "cell_type": "code",
   "execution_count": 8,
   "metadata": {},
   "outputs": [
    {
     "data": {
      "text/plain": [
       "{'buy_pct': 0.4,\n",
       " 'sell_pct': 0.3,\n",
       " 'tol_pct': 0.15,\n",
       " 'buy': 'by_percentage',\n",
       " 'sell': 'by_percentage',\n",
       " 'init_value': 26623.574,\n",
       " 'max_final_value': 28662.696,\n",
       " 'gain_pct': '7.659%',\n",
       " 'bsl_gain_pct': '84.346%',\n",
       " 'bsl_coin_pct': '-4.942%',\n",
       " 'trader_index': 10}"
      ]
     },
     "execution_count": 8,
     "metadata": {},
     "output_type": "execute_result"
    }
   ],
   "source": [
    "info"
   ]
  },
  {
   "cell_type": "code",
   "execution_count": null,
   "metadata": {},
   "outputs": [],
   "source": []
  }
 ],
 "metadata": {
  "kernelspec": {
   "display_name": "Python 3",
   "language": "python",
   "name": "python3"
  },
  "language_info": {
   "codemirror_mode": {
    "name": "ipython",
    "version": 3
   },
   "file_extension": ".py",
   "mimetype": "text/x-python",
   "name": "python",
   "nbconvert_exporter": "python",
   "pygments_lexer": "ipython3",
   "version": "3.7.6"
  }
 },
 "nbformat": 4,
 "nbformat_minor": 4
}
