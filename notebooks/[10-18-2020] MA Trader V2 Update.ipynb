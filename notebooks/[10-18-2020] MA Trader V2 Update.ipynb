{
 "cells": [
  {
   "cell_type": "code",
   "execution_count": 9,
   "metadata": {},
   "outputs": [],
   "source": [
    "import datetime\n",
    "import os\n",
    "import seaborn as sns\n",
    "import sys\n",
    "import time\n",
    "\n",
    "%matplotlib inline"
   ]
  },
  {
   "cell_type": "code",
   "execution_count": 10,
   "metadata": {},
   "outputs": [],
   "source": [
    "SCRIPTS_DIR = '../app'\n",
    "\n",
    "sys.path.insert(1, SCRIPTS_DIR)"
   ]
  },
  {
   "cell_type": "markdown",
   "metadata": {},
   "source": [
    "## Objective: New features to MA Trader \n",
    "### [1] Add MaxDrawdown as metric and NumExecution for information display\n",
    "### [2] Add new trading strategy based upon double moving averages"
   ]
  },
  {
   "cell_type": "markdown",
   "metadata": {},
   "source": [
    "#### Prepare Data"
   ]
  },
  {
   "cell_type": "code",
   "execution_count": 11,
   "metadata": {},
   "outputs": [],
   "source": [
    "# config\n",
    "\n",
    "SECONDS_IN_ONE_DAY = 86400\n",
    "\n",
    "# simulation configuration\n",
    "TOL_PCTS = [0.08, 0.1, 0.15, 0.2, 0.25, 0.3, 0.35, 0.4, 0.45, 0.5]\n",
    "BUY_PCTS = [0.3, 0.4]\n",
    "SELL_PCTS = [0.3, 0.4]\n",
    "MA_LENGTHS = [3, 5, 10, 20, 30]\n",
    "BUY_STAS = ('by_percentage')\n",
    "SELL_STAS = ('by_percentage')\n",
    "\n",
    "# currencies (digital + real-world)\n",
    "CURS = ['BTC', 'ETH', 'LTC', 'BCH', 'ETC']\n",
    "FIAT = ['USD']\n",
    "\n",
    "# signals\n",
    "NO_ACTION_SIGNAL = 'NO ACTION'\n",
    "BUY_SIGNAL = 'BUY'\n",
    "SELL_SIGNAL = 'SELL'\n",
    "\n",
    "# epilson\n",
    "EP_COIN = 10e-3\n",
    "EP_CASH = 5"
   ]
  },
  {
   "cell_type": "code",
   "execution_count": 12,
   "metadata": {},
   "outputs": [],
   "source": [
    "from trader_driver import TraderDriver\n",
    "from util import load_csv\n",
    "\n",
    "name,l = load_csv(csv_fn='../tests/fixtures/BTC_HISTORY.csv')\n",
    "\n",
    "l = l[-90:]"
   ]
  },
  {
   "cell_type": "code",
   "execution_count": 13,
   "metadata": {},
   "outputs": [
    {
     "name": "stdout",
     "output_type": "stream",
     "text": [
      "--> executed=feed_data using time=0.32 seconds.\n"
     ]
    }
   ],
   "source": [
    "init_amount = 3000\n",
    "cur_coin = 2\n",
    "mode = 'normal'\n",
    "\n",
    "t_driver = TraderDriver(\n",
    "    name=name,\n",
    "    init_amount=init_amount,\n",
    "    cur_coin=cur_coin,\n",
    "    tol_pcts=TOL_PCTS,\n",
    "    ma_lengths=MA_LENGTHS,\n",
    "    buy_pcts=BUY_PCTS,\n",
    "    sell_pcts=SELL_PCTS,\n",
    "    buy_stas=BUY_STAS,\n",
    "    sell_stas=SELL_STAS,\n",
    "    mode=mode\n",
    ")\n",
    "\n",
    "t_driver.feed_data(data_stream=l)\n",
    "\n",
    "info = t_driver.best_trader_info\n",
    "# best trader\n",
    "best_t = t_driver.traders[info['trader_index']]\n",
    "# for a new price, find the trade signal\n",
    "signal = best_t.trade_signal"
   ]
  },
  {
   "cell_type": "code",
   "execution_count": 14,
   "metadata": {},
   "outputs": [
    {
     "data": {
      "text/plain": [
       "[{'action': 'NO ACTION',\n",
       "  'price': 9900.678866615,\n",
       "  'date': '2020-05-08',\n",
       "  'coin': 2,\n",
       "  'cash': 3000,\n",
       "  'portfolio': 22801.35773323},\n",
       " {'action': 'NO ACTION',\n",
       "  'price': 9917.248414342199,\n",
       "  'date': '2020-05-09',\n",
       "  'coin': 2,\n",
       "  'cash': 3000,\n",
       "  'portfolio': 22834.496828684398},\n",
       " {'action': 'NO ACTION',\n",
       "  'price': 9617.5181949278,\n",
       "  'date': '2020-05-10',\n",
       "  'coin': 2,\n",
       "  'cash': 3000,\n",
       "  'portfolio': 22235.0363898556},\n",
       " {'action': 'NO ACTION',\n",
       "  'price': 8786.655181651,\n",
       "  'date': '2020-05-11',\n",
       "  'coin': 2,\n",
       "  'cash': 3000,\n",
       "  'portfolio': 20573.310363302},\n",
       " {'action': 'NO ACTION',\n",
       "  'price': 8608.125245038,\n",
       "  'date': '2020-05-12',\n",
       "  'coin': 2,\n",
       "  'cash': 3000,\n",
       "  'portfolio': 20216.250490076},\n",
       " {'action': 'NO ACTION',\n",
       "  'price': 8815.2312449023,\n",
       "  'date': '2020-05-13',\n",
       "  'coin': 2,\n",
       "  'cash': 3000,\n",
       "  'portfolio': 20630.4624898046},\n",
       " {'action': 'NO ACTION',\n",
       "  'price': 9330.986484701,\n",
       "  'date': '2020-05-14',\n",
       "  'coin': 2,\n",
       "  'cash': 3000,\n",
       "  'portfolio': 21661.972969402},\n",
       " {'action': 'NO ACTION',\n",
       "  'price': 9757.2965855933,\n",
       "  'date': '2020-05-15',\n",
       "  'coin': 2,\n",
       "  'cash': 3000,\n",
       "  'portfolio': 22514.5931711866},\n",
       " {'action': 'NO ACTION',\n",
       "  'price': 9362.6355569661,\n",
       "  'date': '2020-05-16',\n",
       "  'coin': 2,\n",
       "  'cash': 3000,\n",
       "  'portfolio': 21725.2711139322},\n",
       " {'action': 'NO ACTION',\n",
       "  'price': 9418.918550505101,\n",
       "  'date': '2020-05-17',\n",
       "  'coin': 2,\n",
       "  'cash': 3000,\n",
       "  'portfolio': 21837.837101010202},\n",
       " {'action': 'NO ACTION',\n",
       "  'price': 9684.7019593528,\n",
       "  'date': '2020-05-18',\n",
       "  'coin': 2,\n",
       "  'cash': 3000,\n",
       "  'portfolio': 22369.4039187056},\n",
       " {'action': 'NO ACTION',\n",
       "  'price': 9723.680150453101,\n",
       "  'date': '2020-05-19',\n",
       "  'coin': 2,\n",
       "  'cash': 3000,\n",
       "  'portfolio': 22447.360300906203},\n",
       " {'action': 'NO ACTION',\n",
       "  'price': 9719.4808544776,\n",
       "  'date': '2020-05-20',\n",
       "  'coin': 2,\n",
       "  'cash': 3000,\n",
       "  'portfolio': 22438.9617089552},\n",
       " {'action': 'NO ACTION',\n",
       "  'price': 9540.8865665842,\n",
       "  'date': '2020-05-21',\n",
       "  'coin': 2,\n",
       "  'cash': 3000,\n",
       "  'portfolio': 22081.7731331684},\n",
       " {'action': 'NO ACTION',\n",
       "  'price': 9141.150637421,\n",
       "  'date': '2020-05-22',\n",
       "  'coin': 2,\n",
       "  'cash': 3000,\n",
       "  'portfolio': 21282.301274842},\n",
       " {'action': 'NO ACTION',\n",
       "  'price': 9192.8451358053,\n",
       "  'date': '2020-05-23',\n",
       "  'coin': 2,\n",
       "  'cash': 3000,\n",
       "  'portfolio': 21385.6902716106},\n",
       " {'action': 'NO ACTION',\n",
       "  'price': 9220.0758874664,\n",
       "  'date': '2020-05-24',\n",
       "  'coin': 2,\n",
       "  'cash': 3000,\n",
       "  'portfolio': 21440.1517749328},\n",
       " {'action': 'NO ACTION',\n",
       "  'price': 9048.7151191611,\n",
       "  'date': '2020-05-25',\n",
       "  'coin': 2,\n",
       "  'cash': 3000,\n",
       "  'portfolio': 21097.4302383222},\n",
       " {'action': 'NO ACTION',\n",
       "  'price': 8905.781604538399,\n",
       "  'date': '2020-05-26',\n",
       "  'coin': 2,\n",
       "  'cash': 3000,\n",
       "  'portfolio': 20811.563209076798},\n",
       " {'action': 'NO ACTION',\n",
       "  'price': 8835.7272240409,\n",
       "  'date': '2020-05-27',\n",
       "  'coin': 2,\n",
       "  'cash': 3000,\n",
       "  'portfolio': 20671.4544480818}]"
      ]
     },
     "execution_count": 14,
     "metadata": {},
     "output_type": "execute_result"
    }
   ],
   "source": [
    "best_t.all_history[:20]"
   ]
  },
  {
   "cell_type": "code",
   "execution_count": 15,
   "metadata": {},
   "outputs": [
    {
     "data": {
      "text/plain": [
       "(0.1147, 0)"
      ]
     },
     "execution_count": 15,
     "metadata": {},
     "output_type": "execute_result"
    }
   ],
   "source": [
    "best_t.max_drawdown, best_t.num_transaction"
   ]
  },
  {
   "cell_type": "code",
   "execution_count": 16,
   "metadata": {},
   "outputs": [
    {
     "data": {
      "text/plain": [
       "{'buy_pct': 0.4,\n",
       " 'sell_pct': 0.4,\n",
       " 'tol_pct': 0.5,\n",
       " 'buy': 'by_percentage',\n",
       " 'sell': 'by_percentage',\n",
       " 'init_value': 22801.358,\n",
       " 'max_final_value': 25456.053,\n",
       " 'gain_pct': '11.643%',\n",
       " 'bsl_gain_pct': '98.486%',\n",
       " 'bsl_coin_pct': '13.407%',\n",
       " 'trader_index': 39}"
      ]
     },
     "execution_count": 16,
     "metadata": {},
     "output_type": "execute_result"
    }
   ],
   "source": [
    "info"
   ]
  },
  {
   "cell_type": "code",
   "execution_count": null,
   "metadata": {},
   "outputs": [],
   "source": []
  }
 ],
 "metadata": {
  "kernelspec": {
   "display_name": "Python 3",
   "language": "python",
   "name": "python3"
  },
  "language_info": {
   "codemirror_mode": {
    "name": "ipython",
    "version": 3
   },
   "file_extension": ".py",
   "mimetype": "text/x-python",
   "name": "python",
   "nbconvert_exporter": "python",
   "pygments_lexer": "ipython3",
   "version": "3.7.6"
  }
 },
 "nbformat": 4,
 "nbformat_minor": 4
}
