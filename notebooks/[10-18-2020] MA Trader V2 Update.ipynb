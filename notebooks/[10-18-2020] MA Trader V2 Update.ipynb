{
 "cells": [
  {
   "cell_type": "code",
   "execution_count": 1,
   "metadata": {},
   "outputs": [],
   "source": [
    "import datetime\n",
    "import os\n",
    "import seaborn as sns\n",
    "import sys\n",
    "import time\n",
    "\n",
    "%matplotlib inline"
   ]
  },
  {
   "cell_type": "code",
   "execution_count": 2,
   "metadata": {},
   "outputs": [],
   "source": [
    "SCRIPTS_DIR = '../app'\n",
    "\n",
    "sys.path.insert(1, SCRIPTS_DIR)"
   ]
  },
  {
   "cell_type": "markdown",
   "metadata": {},
   "source": [
    "## Objective: New features to MA Trader \n",
    "### [1] Feat: MaxDrawdown as metric and NumExecution for information display [100%]\n",
    "### [2] Feat: new trading strategy based upon double moving averages [100%]\n",
    "### [3] Feat: new trading strategy w/ MACD [10%]"
   ]
  },
  {
   "cell_type": "markdown",
   "metadata": {},
   "source": [
    "#### Prepare Data"
   ]
  },
  {
   "cell_type": "code",
   "execution_count": 3,
   "metadata": {},
   "outputs": [],
   "source": [
    "# config\n",
    "\n",
    "SECONDS_IN_ONE_DAY = 86400\n",
    "\n",
    "STRATEGIES = ['MA-SELVES', 'DOUBLE-MA']\n",
    "\n",
    "# simulation configuration\n",
    "TOL_PCTS = [0.08, 0.1, 0.15, 0.2, 0.25, 0.3, 0.35, 0.4, 0.45, 0.5]\n",
    "BUY_PCTS = [0.3, 0.4, 0.5, 0.6, 0.7]\n",
    "SELL_PCTS = [0.3, 0.4, 0.5, 0.6, 0.7]\n",
    "MA_LENGTHS = [3, 5, 10, 20, 30]\n",
    "BUY_STAS = ('by_percentage')\n",
    "SELL_STAS = ('by_percentage')\n",
    "\n",
    "# currencies (digital + real-world)\n",
    "CURS = ['BTC', 'ETH', 'LTC', 'BCH', 'ETC']\n",
    "FIAT = ['USD']\n",
    "\n",
    "# signals\n",
    "NO_ACTION_SIGNAL = 'NO ACTION'\n",
    "BUY_SIGNAL = 'BUY'\n",
    "SELL_SIGNAL = 'SELL'\n",
    "\n",
    "# epilson\n",
    "EP_COIN = 10e-3\n",
    "EP_CASH = 5"
   ]
  },
  {
   "cell_type": "code",
   "execution_count": 4,
   "metadata": {},
   "outputs": [],
   "source": [
    "from trader_driver import TraderDriver\n",
    "from util import load_csv\n",
    "\n",
    "name,l = load_csv(csv_fn='../tests/fixtures/BTC_HISTORY.csv')\n",
    "\n",
    "l = l[-365:]"
   ]
  },
  {
   "cell_type": "code",
   "execution_count": 5,
   "metadata": {
    "scrolled": true
   },
   "outputs": [
    {
     "name": "stdout",
     "output_type": "stream",
     "text": [
      "--> executed=feed_data using time=9.63 seconds.\n"
     ]
    },
    {
     "data": {
      "text/plain": [
       "{'action': 'NO ACTION', 'buy_percentage': 0.7, 'sell_percentage': 0.7}"
      ]
     },
     "execution_count": 5,
     "metadata": {},
     "output_type": "execute_result"
    }
   ],
   "source": [
    "init_amount = 3000\n",
    "cur_coin = 5\n",
    "mode = 'normal'\n",
    "\n",
    "t_driver = TraderDriver(\n",
    "    name=name,\n",
    "    init_amount=init_amount,\n",
    "    overall_stats=STRATEGIES,\n",
    "    cur_coin=cur_coin,\n",
    "    tol_pcts=TOL_PCTS,\n",
    "    ma_lengths=MA_LENGTHS,\n",
    "    buy_pcts=BUY_PCTS,\n",
    "    sell_pcts=SELL_PCTS,\n",
    "    buy_stas=BUY_STAS,\n",
    "    sell_stas=SELL_STAS,\n",
    "    mode=mode\n",
    ")\n",
    "\n",
    "t_driver.feed_data(data_stream=l)\n",
    "\n",
    "info = t_driver.best_trader_info\n",
    "# best trader\n",
    "best_t = t_driver.traders[info['trader_index']]\n",
    "# for a new price, find the trade signal\n",
    "signal = best_t.trade_signal\n",
    "\n",
    "signal"
   ]
  },
  {
   "cell_type": "code",
   "execution_count": 6,
   "metadata": {},
   "outputs": [
    {
     "data": {
      "text/plain": [
       "[{'action': 'NO ACTION',\n",
       "  'price': 7175.6674765579,\n",
       "  'date': '2020-04-08',\n",
       "  'coin': 5,\n",
       "  'cash': 3000,\n",
       "  'portfolio': 38878.3373827895},\n",
       " {'action': 'NO ACTION',\n",
       "  'price': 7367.293398450201,\n",
       "  'date': '2020-04-09',\n",
       "  'coin': 5,\n",
       "  'cash': 3000,\n",
       "  'portfolio': 39836.466992251}]"
      ]
     },
     "execution_count": 6,
     "metadata": {},
     "output_type": "execute_result"
    }
   ],
   "source": [
    "best_t.all_history[:2]"
   ]
  },
  {
   "cell_type": "code",
   "execution_count": 7,
   "metadata": {},
   "outputs": [
    {
     "data": {
      "text/plain": [
       "[]"
      ]
     },
     "execution_count": 7,
     "metadata": {},
     "output_type": "execute_result"
    }
   ],
   "source": [
    "best_t.all_history_trade_only"
   ]
  },
  {
   "cell_type": "code",
   "execution_count": 8,
   "metadata": {},
   "outputs": [
    {
     "data": {
      "text/plain": [
       "(0.1813, 0, 'MA-SELVES')"
      ]
     },
     "execution_count": 8,
     "metadata": {},
     "output_type": "execute_result"
    }
   ],
   "source": [
    "best_t.max_drawdown, best_t.num_transaction, best_t.high_strategy"
   ]
  },
  {
   "cell_type": "code",
   "execution_count": 9,
   "metadata": {},
   "outputs": [
    {
     "data": {
      "text/plain": [
       "{'buy_pct': 0.7,\n",
       " 'sell_pct': 0.7,\n",
       " 'tol_pct': 0.5,\n",
       " 'buy': 'by_percentage',\n",
       " 'sell': 'by_percentage',\n",
       " 'init_value': 38878.3373827895,\n",
       " 'max_final_value': 68514.672,\n",
       " 'rate_of_return': '76.228%',\n",
       " 'baseline_rate_of_return': '76.228%',\n",
       " 'coin_rate_of_return': '82.602%',\n",
       " 'trader_index': 249}"
      ]
     },
     "execution_count": 9,
     "metadata": {},
     "output_type": "execute_result"
    }
   ],
   "source": [
    "info"
   ]
  },
  {
   "cell_type": "code",
   "execution_count": 10,
   "metadata": {},
   "outputs": [
    {
     "data": {
      "text/plain": [
       "(76.228, 76.228, 82.602)"
      ]
     },
     "execution_count": 10,
     "metadata": {},
     "output_type": "execute_result"
    }
   ],
   "source": [
    "best_t.rate_of_return, best_t.baseline_rate_of_return, best_t.coin_rate_of_return"
   ]
  },
  {
   "cell_type": "code",
   "execution_count": 11,
   "metadata": {},
   "outputs": [
    {
     "data": {
      "text/plain": [
       "({'action': 'NO ACTION',\n",
       "  'price': 7175.6674765579,\n",
       "  'date': '2020-04-08',\n",
       "  'coin': 5,\n",
       "  'cash': 3000,\n",
       "  'portfolio': 38878.3373827895},\n",
       " {'action': 'NO ACTION',\n",
       "  'price': 13102.9344615485,\n",
       "  'date': '2020-10-22',\n",
       "  'coin': 5,\n",
       "  'cash': 3000,\n",
       "  'portfolio': 68514.6723077425})"
      ]
     },
     "execution_count": 11,
     "metadata": {},
     "output_type": "execute_result"
    }
   ],
   "source": [
    "best_t.all_history[0], best_t.all_history[-1]"
   ]
  },
  {
   "cell_type": "code",
   "execution_count": null,
   "metadata": {},
   "outputs": [],
   "source": []
  }
 ],
 "metadata": {
  "kernelspec": {
   "display_name": "Python 3",
   "language": "python",
   "name": "python3"
  },
  "language_info": {
   "codemirror_mode": {
    "name": "ipython",
    "version": 3
   },
   "file_extension": ".py",
   "mimetype": "text/x-python",
   "name": "python",
   "nbconvert_exporter": "python",
   "pygments_lexer": "ipython3",
   "version": "3.7.6"
  }
 },
 "nbformat": 4,
 "nbformat_minor": 4
}
