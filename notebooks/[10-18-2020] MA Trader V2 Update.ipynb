{
 "cells": [
  {
   "cell_type": "code",
   "execution_count": 31,
   "metadata": {},
   "outputs": [],
   "source": [
    "import datetime\n",
    "import os\n",
    "import seaborn as sns\n",
    "import sys\n",
    "import time\n",
    "\n",
    "%matplotlib inline"
   ]
  },
  {
   "cell_type": "code",
   "execution_count": 32,
   "metadata": {},
   "outputs": [],
   "source": [
    "SCRIPTS_DIR = '../app'\n",
    "\n",
    "sys.path.insert(1, SCRIPTS_DIR)"
   ]
  },
  {
   "cell_type": "markdown",
   "metadata": {},
   "source": [
    "## Objective: New features to MA Trader \n",
    "### [1] Feat: MaxDrawdown as metric and NumExecution for information display [100%]\n",
    "### [2] Feat: new trading strategy based upon double moving averages [100%]\n",
    "### [3] Feat: new trading strategy w/ EMA [100%]\n",
    "### [4] Feat: new trading strategy w/ MACD [100%]\n",
    "### [5] Feat: visualization features"
   ]
  },
  {
   "cell_type": "markdown",
   "metadata": {},
   "source": [
    "#### Prepare Data"
   ]
  },
  {
   "cell_type": "code",
   "execution_count": 33,
   "metadata": {},
   "outputs": [],
   "source": [
    "# config\n",
    "\n",
    "SECONDS_IN_ONE_DAY = 86400\n",
    "\n",
    "STRATEGIES = ['MA-SELVES', 'DOUBLE-MA', 'MACD']\n",
    "#STRATEGIES = ['MACD']\n",
    "\n",
    "# simulation configuration\n",
    "TOL_PCTS = [0.08, 0.1, 0.15, 0.2, 0.25, 0.3, 0.35, 0.4, 0.45, 0.5]\n",
    "BUY_PCTS = [0.3, 0.4, 0.5, 0.6, 0.7]\n",
    "SELL_PCTS = [0.3, 0.4, 0.5, 0.6, 0.7]\n",
    "\n",
    "MA_LENGTHS = [3, 5, 10, 20, 30]\n",
    "EMA_LENGTHS = [12, 26]\n",
    "\n",
    "BUY_STAS = ('by_percentage')\n",
    "SELL_STAS = ('by_percentage')\n",
    "\n",
    "# currencies (digital + real-world)\n",
    "CURS = ['BTC', 'ETH', 'LTC', 'BCH', 'ETC']\n",
    "FIAT = ['USD']\n",
    "\n",
    "# signals\n",
    "NO_ACTION_SIGNAL = 'NO ACTION'\n",
    "BUY_SIGNAL = 'BUY'\n",
    "SELL_SIGNAL = 'SELL'\n",
    "\n",
    "# epilson\n",
    "EP_COIN = 10e-3\n",
    "EP_CASH = 5"
   ]
  },
  {
   "cell_type": "code",
   "execution_count": 34,
   "metadata": {},
   "outputs": [],
   "source": [
    "from trader_driver import TraderDriver\n",
    "from util import load_csv\n",
    "\n",
    "name,l = load_csv(csv_fn='../tests/fixtures/ETH_HISTORY.csv')\n",
    "\n",
    "l = l[-300:]"
   ]
  },
  {
   "cell_type": "code",
   "execution_count": 35,
   "metadata": {
    "scrolled": false
   },
   "outputs": [
    {
     "name": "stdout",
     "output_type": "stream",
     "text": [
      "--> executed=feed_data using time=9.43 seconds.\n"
     ]
    },
    {
     "data": {
      "text/plain": [
       "{'action': 'NO ACTION', 'buy_percentage': 0.7, 'sell_percentage': 0.7}"
      ]
     },
     "execution_count": 35,
     "metadata": {},
     "output_type": "execute_result"
    }
   ],
   "source": [
    "init_amount = 3000\n",
    "cur_coin = 5\n",
    "mode = 'normal'\n",
    "\n",
    "t_driver = TraderDriver(\n",
    "    name=name,\n",
    "    init_amount=init_amount,\n",
    "    overall_stats=STRATEGIES,\n",
    "    cur_coin=cur_coin,\n",
    "    tol_pcts=TOL_PCTS,\n",
    "    ma_lengths=MA_LENGTHS,\n",
    "    ema_lengths=EMA_LENGTHS,\n",
    "    buy_pcts=BUY_PCTS,\n",
    "    sell_pcts=SELL_PCTS,\n",
    "    buy_stas=BUY_STAS,\n",
    "    sell_stas=SELL_STAS,\n",
    "    mode=mode\n",
    ")\n",
    "\n",
    "t_driver.feed_data(data_stream=l)\n",
    "\n",
    "info = t_driver.best_trader_info\n",
    "# best trader\n",
    "best_t = t_driver.traders[info['trader_index']]\n",
    "# for a new price, find the trade signal\n",
    "signal = best_t.trade_signal\n",
    "\n",
    "signal"
   ]
  },
  {
   "cell_type": "code",
   "execution_count": 36,
   "metadata": {
    "scrolled": true
   },
   "outputs": [
    {
     "data": {
      "text/plain": [
       "[{'action': 'NO ACTION',\n",
       "  'price': 132.0730737137,\n",
       "  'date': '2019-12-31',\n",
       "  'coin': 5,\n",
       "  'cash': 3000,\n",
       "  'portfolio': 3660.3653685685003},\n",
       " {'action': 'NO ACTION',\n",
       "  'price': 128.7226035036,\n",
       "  'date': '2020-01-01',\n",
       "  'coin': 5,\n",
       "  'cash': 3000,\n",
       "  'portfolio': 3643.613017518}]"
      ]
     },
     "execution_count": 36,
     "metadata": {},
     "output_type": "execute_result"
    }
   ],
   "source": [
    "best_t.all_history[:2]"
   ]
  },
  {
   "cell_type": "code",
   "execution_count": 37,
   "metadata": {},
   "outputs": [
    {
     "data": {
      "text/plain": [
       "[{'action': 'SELL',\n",
       "  'price': 284.0004908975,\n",
       "  'date': '2020-02-15',\n",
       "  'coin': 1.5,\n",
       "  'cash': 3974.121683778425,\n",
       "  'portfolio': 4400.122420124675},\n",
       " {'action': 'BUY',\n",
       "  'price': 127.2928961752,\n",
       "  'date': '2020-03-13',\n",
       "  'coin': 22.917121905371054,\n",
       "  'cash': 1192.2365051335278,\n",
       "  'portfolio': 4109.423324468327},\n",
       " {'action': 'BUY',\n",
       "  'price': 124.97461472639999,\n",
       "  'date': '2020-03-15',\n",
       "  'coin': 29.461444880977954,\n",
       "  'cash': 357.67095154005835,\n",
       "  'portfolio': 4039.6036748233473},\n",
       " {'action': 'BUY',\n",
       "  'price': 107.89834478510001,\n",
       "  'date': '2020-03-17',\n",
       "  'coin': 31.73545819642932,\n",
       "  'cash': 107.30128546201752,\n",
       "  'portfolio': 3531.5046958534763},\n",
       " {'action': 'BUY',\n",
       "  'price': 107.89834478510001,\n",
       "  'date': '2020-03-17',\n",
       "  'coin': 32.41766219106473,\n",
       "  'cash': 32.190385638605264,\n",
       "  'portfolio': 3530.0024778570078}]"
      ]
     },
     "execution_count": 37,
     "metadata": {},
     "output_type": "execute_result"
    }
   ],
   "source": [
    "best_t.all_history_trade_only"
   ]
  },
  {
   "cell_type": "code",
   "execution_count": 38,
   "metadata": {},
   "outputs": [
    {
     "data": {
      "text/plain": [
       "(0.3286, 5, 'MA-SELVES', 4, 1)"
      ]
     },
     "execution_count": 38,
     "metadata": {},
     "output_type": "execute_result"
    }
   ],
   "source": [
    "best_t.max_drawdown, best_t.num_transaction, best_t.high_strategy, best_t.num_buy_action, best_t.num_sell_action"
   ]
  },
  {
   "cell_type": "code",
   "execution_count": 39,
   "metadata": {},
   "outputs": [
    {
     "data": {
      "text/plain": [
       "{'buy_pct': 0.7,\n",
       " 'sell_pct': 0.7,\n",
       " 'tol_pct': 0.45,\n",
       " 'buy': 'by_percentage',\n",
       " 'sell': 'by_percentage',\n",
       " 'init_value': 3660.3653685685003,\n",
       " 'max_final_value': 12935.319,\n",
       " 'rate_of_return': '253.389%',\n",
       " 'baseline_rate_of_return': '36.329%',\n",
       " 'coin_rate_of_return': '201.369%',\n",
       " 'trader_index': 224}"
      ]
     },
     "execution_count": 39,
     "metadata": {},
     "output_type": "execute_result"
    }
   ],
   "source": [
    "info"
   ]
  },
  {
   "cell_type": "code",
   "execution_count": 40,
   "metadata": {},
   "outputs": [
    {
     "data": {
      "text/plain": [
       "[(393.1071990064, '2020-10-13'),\n",
       " (381.62561685459997, '2020-10-14'),\n",
       " (376.469523739, '2020-10-15'),\n",
       " (378.23951343650003, '2020-10-16'),\n",
       " (367.1522802856, '2020-10-17'),\n",
       " (368.23684389970003, '2020-10-18'),\n",
       " (376.5122024722, '2020-10-19'),\n",
       " (379.6604736902, '2020-10-20'),\n",
       " (368.8607245558, '2020-10-21'),\n",
       " (398.0277214424, '2020-10-22')]"
      ]
     },
     "execution_count": 40,
     "metadata": {},
     "output_type": "execute_result"
    }
   ],
   "source": [
    "best_t.crypto_prices[-10:]"
   ]
  },
  {
   "cell_type": "code",
   "execution_count": null,
   "metadata": {},
   "outputs": [],
   "source": []
  }
 ],
 "metadata": {
  "kernelspec": {
   "display_name": "Python 3",
   "language": "python",
   "name": "python3"
  },
  "language_info": {
   "codemirror_mode": {
    "name": "ipython",
    "version": 3
   },
   "file_extension": ".py",
   "mimetype": "text/x-python",
   "name": "python",
   "nbconvert_exporter": "python",
   "pygments_lexer": "ipython3",
   "version": "3.7.6"
  }
 },
 "nbformat": 4,
 "nbformat_minor": 4
}
