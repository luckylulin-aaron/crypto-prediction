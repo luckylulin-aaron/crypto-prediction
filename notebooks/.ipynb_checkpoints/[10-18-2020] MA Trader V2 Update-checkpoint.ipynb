{
 "cells": [
  {
   "cell_type": "code",
   "execution_count": 6,
   "metadata": {},
   "outputs": [],
   "source": [
    "import datetime\n",
    "import os\n",
    "import seaborn as sns\n",
    "import sys\n",
    "import time\n",
    "\n",
    "%matplotlib inline"
   ]
  },
  {
   "cell_type": "code",
   "execution_count": 7,
   "metadata": {},
   "outputs": [],
   "source": [
    "SCRIPTS_DIR = '../app'\n",
    "\n",
    "sys.path.insert(1, SCRIPTS_DIR)"
   ]
  },
  {
   "cell_type": "markdown",
   "metadata": {},
   "source": [
    "## Objective: New features to MA Trader \n",
    "### [1] Add MaxDrawdown as metric and NumExecution for information display\n",
    "### [2] Add new trading strategy based upon double moving averages"
   ]
  },
  {
   "cell_type": "markdown",
   "metadata": {},
   "source": [
    "#### Prepare Data"
   ]
  },
  {
   "cell_type": "code",
   "execution_count": 21,
   "metadata": {},
   "outputs": [],
   "source": [
    "# config\n",
    "\n",
    "SECONDS_IN_ONE_DAY = 86400\n",
    "\n",
    "# simulation configuration\n",
    "TOL_PCTS = [0.08, 0.4]\n",
    "BUY_PCTS = [0.3, 0.4]\n",
    "SELL_PCTS = [0.3, 0.4]\n",
    "MA_LENGTHS = [5, 10, 20, 30]\n",
    "BUY_STAS = ('by_percentage')\n",
    "SELL_STAS = ('by_percentage')\n",
    "\n",
    "# currencies (digital + real-world)\n",
    "CURS = ['BTC', 'ETH', 'LTC', 'BCH', 'ETC']\n",
    "FIAT = ['USD']\n",
    "\n",
    "# signals\n",
    "NO_ACTION_SIGNAL = 'NO ACTION'\n",
    "BUY_SIGNAL = 'BUY'\n",
    "SELL_SIGNAL = 'SELL'\n",
    "\n",
    "# epilson\n",
    "EP_COIN = 10e-3\n",
    "EP_CASH = 5"
   ]
  },
  {
   "cell_type": "code",
   "execution_count": 33,
   "metadata": {},
   "outputs": [],
   "source": [
    "from trader_driver import TraderDriver\n",
    "from util import load_csv\n",
    "\n",
    "name,l = load_csv(csv_fn='../tests/fixtures/BTC_HISTORY.csv')\n",
    "\n",
    "l = l[-500:]"
   ]
  },
  {
   "cell_type": "code",
   "execution_count": 34,
   "metadata": {},
   "outputs": [
    {
     "name": "stdout",
     "output_type": "stream",
     "text": [
      "--> executed=feed_data using time=0.21 seconds.\n"
     ]
    }
   ],
   "source": [
    "init_amount = 3000\n",
    "cur_coin = 5\n",
    "mode = 'normal'\n",
    "\n",
    "t_driver = TraderDriver(\n",
    "    name=name,\n",
    "    init_amount=init_amount,\n",
    "    cur_coin=cur_coin,\n",
    "    tol_pcts=TOL_PCTS,\n",
    "    ma_lengths=MA_LENGTHS,\n",
    "    buy_pcts=BUY_PCTS,\n",
    "    sell_pcts=SELL_PCTS,\n",
    "    buy_stas=BUY_STAS,\n",
    "    sell_stas=SELL_STAS,\n",
    "    mode=mode\n",
    ")\n",
    "\n",
    "t_driver.feed_data(data_stream=l)\n",
    "\n",
    "info = t_driver.best_trader_info\n",
    "# best trader\n",
    "best_t = t_driver.traders[info['trader_index']]\n",
    "# for a new price, find the trade signal\n",
    "signal = best_t.trade_signal"
   ]
  },
  {
   "cell_type": "code",
   "execution_count": 35,
   "metadata": {},
   "outputs": [
    {
     "data": {
      "text/plain": [
       "[{'action': 'SELL',\n",
       "  'price': 7906.9408350528,\n",
       "  'date': '2019-05-14',\n",
       "  'coin': 3.0,\n",
       "  'cash': 18497.604036703488,\n",
       "  'porfolio': 42218.42654186189},\n",
       " {'action': 'SELL',\n",
       "  'price': 7928.4174163467005,\n",
       "  'date': '2019-05-15',\n",
       "  'coin': 1.7999999999999998,\n",
       "  'cash': 27821.42291832721,\n",
       "  'porfolio': 42092.57426775127},\n",
       " {'action': 'SELL',\n",
       "  'price': 8177.4535191838,\n",
       "  'date': '2019-05-16',\n",
       "  'coin': 1.0799999999999998,\n",
       "  'cash': 33591.4341214633,\n",
       "  'porfolio': 42423.0839221818},\n",
       " {'action': 'SELL',\n",
       "  'price': 12444.9258599878,\n",
       "  'date': '2019-06-27',\n",
       "  'coin': 0.6479999999999999,\n",
       "  'cash': 38860.117933547735,\n",
       "  'porfolio': 46924.429890819825},\n",
       " {'action': 'BUY',\n",
       "  'price': 5304.149952186,\n",
       "  'date': '2020-03-15',\n",
       "  'coin': 3.5199335552858315,\n",
       "  'cash': 23316.07076012864,\n",
       "  'porfolio': 41986.32615909588},\n",
       " {'action': 'BUY',\n",
       "  'price': 4944.7023359837,\n",
       "  'date': '2020-03-17',\n",
       "  'coin': 5.368356193683565,\n",
       "  'cash': 13989.642456077185,\n",
       "  'porfolio': 40534.56586737688}]"
      ]
     },
     "execution_count": 35,
     "metadata": {},
     "output_type": "execute_result"
    }
   ],
   "source": [
    "best_t.trade_history"
   ]
  },
  {
   "cell_type": "code",
   "execution_count": null,
   "metadata": {},
   "outputs": [],
   "source": []
  },
  {
   "cell_type": "code",
   "execution_count": null,
   "metadata": {},
   "outputs": [],
   "source": []
  }
 ],
 "metadata": {
  "kernelspec": {
   "display_name": "Python 3",
   "language": "python",
   "name": "python3"
  },
  "language_info": {
   "codemirror_mode": {
    "name": "ipython",
    "version": 3
   },
   "file_extension": ".py",
   "mimetype": "text/x-python",
   "name": "python",
   "nbconvert_exporter": "python",
   "pygments_lexer": "ipython3",
   "version": "3.7.6"
  }
 },
 "nbformat": 4,
 "nbformat_minor": 4
}
